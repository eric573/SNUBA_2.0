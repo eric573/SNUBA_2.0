{
 "cells": [
  {
   "cell_type": "code",
   "execution_count": 9,
   "metadata": {},
   "outputs": [],
   "source": [
    "import numpy as np\n",
    "from joblib import dump, load\n",
    "from sklearn import metrics"
   ]
  },
  {
   "cell_type": "code",
   "execution_count": 10,
   "metadata": {},
   "outputs": [],
   "source": [
    "# Dataloading\n",
    "from data.loader import DataLoader\n",
    "loader = DataLoader()\n",
    "train_primitive_matrix, val_primitive_matrix, test_primitive_matrix, \\\n",
    "            train_ground, val_ground, test_ground, \\\n",
    "            train_plots, val_plots, test_plots = loader.load_data(None, \"./data/imdb/\")\n",
    "\n",
    "# load labels\n",
    "train_prob_labels = load('train_prob_labels.joblib') # these will be used instead of train_ground"
   ]
  },
  {
   "cell_type": "markdown",
   "metadata": {},
   "source": [
    "## Part 1: A simple LSTM from good folks at Stanford's reef"
   ]
  },
  {
   "cell_type": "code",
   "execution_count": 11,
   "metadata": {},
   "outputs": [],
   "source": [
    "from downstream_models.imdb_lstm import lstm_simple\n"
   ]
  },
  {
   "cell_type": "code",
   "execution_count": null,
   "metadata": {},
   "outputs": [
    {
     "name": "stdout",
     "output_type": "stream",
     "text": [
      "Model: \"sequential_2\"\n",
      "_________________________________________________________________\n",
      "Layer (type)                 Output Shape              Param #   \n",
      "=================================================================\n",
      "embedding_2 (Embedding)      (None, 500, 32)           159328    \n",
      "_________________________________________________________________\n",
      "lstm_2 (LSTM)                (None, 100)               53200     \n",
      "_________________________________________________________________\n",
      "dense_2 (Dense)              (None, 1)                 101       \n",
      "=================================================================\n",
      "Total params: 212,629\n",
      "Trainable params: 212,629\n",
      "Non-trainable params: 0\n",
      "_________________________________________________________________\n",
      "None\n",
      "Epoch 1/3\n",
      "5/5 [==============================] - 5s 628ms/step - loss: 0.6926 - accuracy: 0.5524 - val_loss: 0.6915 - val_accuracy: 0.5260\n",
      "Epoch 2/3\n",
      "5/5 [==============================] - 3s 583ms/step - loss: 0.6892 - accuracy: 0.5218 - val_loss: 0.6905 - val_accuracy: 0.5260\n",
      "Epoch 3/3\n",
      "5/5 [==============================] - 3s 542ms/step - loss: 0.6827 - accuracy: 0.5577 - val_loss: 0.6869 - val_accuracy: 0.5260\n",
      "Accuracy: 52.60%\n"
     ]
    }
   ],
   "source": [
    "# This does training and testing with a simple LSTM model\n",
    "\n",
    "# 1. only with val data + val ground\n",
    "y_pred = lstm_simple(val_plots, val_ground, test_plots, test_ground)\n",
    "predictions = np.round(y_pred)\n",
    "print('F1', metrics.f1_score(test_ground, predictions))"
   ]
  },
  {
   "cell_type": "code",
   "execution_count": null,
   "metadata": {},
   "outputs": [],
   "source": [
    "print(min(test_ground), max(test_ground))\n",
    "print(min(y_pred), max(y_pred))"
   ]
  },
  {
   "cell_type": "code",
   "execution_count": 14,
   "metadata": {},
   "outputs": [
    {
     "name": "stdout",
     "output_type": "stream",
     "text": [
      "Model: \"sequential_4\"\n",
      "_________________________________________________________________\n",
      "Layer (type)                 Output Shape              Param #   \n",
      "=================================================================\n",
      "embedding_4 (Embedding)      (None, 500, 32)           245344    \n",
      "_________________________________________________________________\n",
      "lstm_4 (LSTM)                (None, 100)               53200     \n",
      "_________________________________________________________________\n",
      "dense_4 (Dense)              (None, 1)                 101       \n",
      "=================================================================\n",
      "Total params: 298,645\n",
      "Trainable params: 298,645\n",
      "Non-trainable params: 0\n",
      "_________________________________________________________________\n",
      "None\n",
      "Epoch 1/5\n",
      "18/18 [==============================] - 6s 265ms/step - loss: 0.6909 - accuracy: 0.0000e+00 - val_loss: 0.6884 - val_accuracy: 0.5260\n",
      "Epoch 2/5\n",
      "18/18 [==============================] - 4s 250ms/step - loss: 0.6791 - accuracy: 0.0000e+00 - val_loss: 0.6214 - val_accuracy: 0.7140\n",
      "Epoch 3/5\n",
      "18/18 [==============================] - 4s 250ms/step - loss: 0.6228 - accuracy: 0.0000e+00 - val_loss: 0.5782 - val_accuracy: 0.7620\n",
      "Epoch 4/5\n",
      "18/18 [==============================] - 4s 250ms/step - loss: 0.5858 - accuracy: 0.0000e+00 - val_loss: 0.5433 - val_accuracy: 0.7680\n",
      "Epoch 5/5\n",
      "18/18 [==============================] - 4s 251ms/step - loss: 0.5736 - accuracy: 0.0000e+00 - val_loss: 0.5421 - val_accuracy: 0.7500\n",
      "Accuracy: 75.00%\n",
      "F1 0.74120082815735\n"
     ]
    }
   ],
   "source": [
    "# This does training and testing with a simple LSTM model\n",
    "\n",
    "# 2. only with train data + reef generated labels\n",
    "y_pred = lstm_simple(train_plots, train_prob_labels, test_plots, test_ground, n = 5)\n",
    "predictions = np.round(y_pred)\n",
    "print('F1', metrics.f1_score(test_ground, predictions))"
   ]
  },
  {
   "cell_type": "markdown",
   "metadata": {},
   "source": [
    "## Part 2: Attention is all you need"
   ]
  },
  {
   "cell_type": "code",
   "execution_count": null,
   "metadata": {},
   "outputs": [],
   "source": [
    "import torch\n",
    "import torch.nn as nn"
   ]
  },
  {
   "cell_type": "code",
   "execution_count": null,
   "metadata": {},
   "outputs": [],
   "source": [
    "# transformer parameters\n",
    "\n",
    "d_model=512\n",
    "nhead=8\n",
    "num_encoder_layers=6\n",
    "num_decoder_layers=0 # does this work?\n",
    "dim_feedforward=2048\n",
    "dropout=0.1\n",
    "activation='relu'"
   ]
  },
  {
   "cell_type": "code",
   "execution_count": null,
   "metadata": {},
   "outputs": [],
   "source": [
    "# model\n",
    "\n",
    "model = nn.Transformer()"
   ]
  }
 ],
 "metadata": {
  "kernelspec": {
   "display_name": "Python 3",
   "language": "python",
   "name": "python3"
  },
  "language_info": {
   "codemirror_mode": {
    "name": "ipython",
    "version": 3
   },
   "file_extension": ".py",
   "mimetype": "text/x-python",
   "name": "python",
   "nbconvert_exporter": "python",
   "pygments_lexer": "ipython3",
   "version": "3.8.5"
  }
 },
 "nbformat": 4,
 "nbformat_minor": 2
}
