{
 "cells": [
  {
   "cell_type": "code",
   "execution_count": 1,
   "metadata": {},
   "outputs": [],
   "source": [
    "import numpy as np\n",
    "from joblib import dump, load\n",
    "from sklearn import metrics"
   ]
  },
  {
   "cell_type": "code",
   "execution_count": 2,
   "metadata": {},
   "outputs": [],
   "source": [
    "# Dataloading\n",
    "from data.loader import DataLoader\n",
    "loader = DataLoader()\n",
    "train_primitive_matrix, val_primitive_matrix, test_primitive_matrix, \\\n",
    "            train_ground, val_ground, test_ground, \\\n",
    "            train_plots, val_plots, test_plots = loader.load_data(None, \"./data/imdb/\")\n",
    "\n",
    "# load labels\n",
    "train_prob_labels = load('train_prob_labels.joblib') # these will be used instead of train_ground"
   ]
  },
  {
   "cell_type": "markdown",
   "metadata": {},
   "source": [
    "## Part 1: A simple LSTM from good folks at Stanford's reef"
   ]
  },
  {
   "cell_type": "code",
   "execution_count": 3,
   "metadata": {},
   "outputs": [],
   "source": [
    "from downstream_models.imdb_lstm import lstm_simple\n"
   ]
  },
  {
   "cell_type": "code",
   "execution_count": 4,
   "metadata": {},
   "outputs": [
    {
     "name": "stdout",
     "output_type": "stream",
     "text": [
      "Model: \"sequential\"\n",
      "_________________________________________________________________\n",
      "Layer (type)                 Output Shape              Param #   \n",
      "=================================================================\n",
      "embedding (Embedding)        (None, 500, 32)           159328    \n",
      "_________________________________________________________________\n",
      "lstm (LSTM)                  (None, 100)               53200     \n",
      "_________________________________________________________________\n",
      "dense (Dense)                (None, 1)                 101       \n",
      "=================================================================\n",
      "Total params: 212,629\n",
      "Trainable params: 212,629\n",
      "Non-trainable params: 0\n",
      "_________________________________________________________________\n",
      "None\n",
      "Epoch 1/3\n",
      "5/5 [==============================] - 3s 475ms/step - loss: 0.6932 - accuracy: 0.4990 - val_loss: 0.6921 - val_accuracy: 0.5300\n",
      "Epoch 2/3\n",
      "5/5 [==============================] - 2s 408ms/step - loss: 0.6892 - accuracy: 0.5492 - val_loss: 0.6897 - val_accuracy: 0.5260\n",
      "Epoch 3/3\n",
      "5/5 [==============================] - 2s 359ms/step - loss: 0.6816 - accuracy: 0.5124 - val_loss: 0.6839 - val_accuracy: 0.5260\n",
      "Accuracy: 52.60%\n",
      "F1 0.0\n"
     ]
    }
   ],
   "source": [
    "# This does training and testing with a simple LSTM model\n",
    "\n",
    "# 1. only with val data + val ground\n",
    "y_pred = lstm_simple(val_plots, val_ground, test_plots, test_ground)\n",
    "predictions = np.round(y_pred)\n",
    "print('F1', metrics.f1_score(test_ground, predictions))"
   ]
  },
  {
   "cell_type": "code",
   "execution_count": 7,
   "metadata": {},
   "outputs": [
    {
     "name": "stdout",
     "output_type": "stream",
     "text": [
      "0 1\n",
      "0.42781058 0.48293763\n"
     ]
    }
   ],
   "source": [
    "print(min(test_ground), max(test_ground))\n",
    "print(min(y_pred), max(y_pred))"
   ]
  },
  {
   "cell_type": "code",
   "execution_count": 8,
   "metadata": {},
   "outputs": [
    {
     "name": "stdout",
     "output_type": "stream",
     "text": [
      "Model: \"sequential_1\"\n",
      "_________________________________________________________________\n",
      "Layer (type)                 Output Shape              Param #   \n",
      "=================================================================\n",
      "embedding_1 (Embedding)      (None, 500, 32)           245344    \n",
      "_________________________________________________________________\n",
      "lstm_1 (LSTM)                (None, 100)               53200     \n",
      "_________________________________________________________________\n",
      "dense_1 (Dense)              (None, 1)                 101       \n",
      "=================================================================\n",
      "Total params: 298,645\n",
      "Trainable params: 298,645\n",
      "Non-trainable params: 0\n",
      "_________________________________________________________________\n",
      "None\n",
      "Epoch 1/3\n",
      "18/18 [==============================] - 6s 268ms/step - loss: 0.6906 - accuracy: 0.0000e+00 - val_loss: 0.6874 - val_accuracy: 0.5260\n",
      "Epoch 2/3\n",
      "18/18 [==============================] - 4s 251ms/step - loss: 0.6942 - accuracy: 0.0000e+00 - val_loss: 0.6035 - val_accuracy: 0.6660\n",
      "Epoch 3/3\n",
      "18/18 [==============================] - 4s 251ms/step - loss: 0.6179 - accuracy: 0.0000e+00 - val_loss: 0.5631 - val_accuracy: 0.7400\n",
      "Accuracy: 74.00%\n",
      "F1 0.6990740740740742\n"
     ]
    }
   ],
   "source": [
    "# This does training and testing with a simple LSTM model\n",
    "\n",
    "# 2. only with train data + reef generated labels\n",
    "y_pred = lstm_simple(train_plots, train_prob_labels, test_plots, test_ground)\n",
    "predictions = np.round(y_pred)\n",
    "print('F1', metrics.f1_score(test_ground, predictions))"
   ]
  },
  {
   "cell_type": "markdown",
   "metadata": {},
   "source": [
    "## Part 2: Attention is all you need"
   ]
  },
  {
   "cell_type": "code",
   "execution_count": null,
   "metadata": {},
   "outputs": [],
   "source": [
    "import torch\n",
    "import torch.nn as nn"
   ]
  },
  {
   "cell_type": "code",
   "execution_count": null,
   "metadata": {},
   "outputs": [],
   "source": [
    "# transformer parameters\n",
    "\n",
    "d_model=512\n",
    "nhead=8\n",
    "num_encoder_layers=6\n",
    "num_decoder_layers=0 # does this work?\n",
    "dim_feedforward=2048\n",
    "dropout=0.1\n",
    "activation='relu'"
   ]
  },
  {
   "cell_type": "code",
   "execution_count": null,
   "metadata": {},
   "outputs": [],
   "source": [
    "# model\n",
    "\n",
    "model = nn.Transformer()"
   ]
  }
 ],
 "metadata": {
  "kernelspec": {
   "display_name": "Python 3",
   "language": "python",
   "name": "python3"
  },
  "language_info": {
   "codemirror_mode": {
    "name": "ipython",
    "version": 3
   },
   "file_extension": ".py",
   "mimetype": "text/x-python",
   "name": "python",
   "nbconvert_exporter": "python",
   "pygments_lexer": "ipython3",
   "version": "3.8.5"
  }
 },
 "nbformat": 4,
 "nbformat_minor": 2
}
