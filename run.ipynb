{
 "cells": [
  {
   "cell_type": "code",
   "execution_count": 1,
   "metadata": {},
   "outputs": [],
   "source": [
    "import numpy as np\n",
    "import matplotlib.pyplot as plt\n",
    "import sklearn.linear_model\n",
    "from program_synthesis.synthesizer import Synthesizer\n",
    "from program_synthesis.utils import calcF1"
   ]
  },
  {
   "cell_type": "code",
   "execution_count": 2,
   "metadata": {
    "pycharm": {
     "name": "#%%\n"
    }
   },
   "outputs": [
    {
     "name": "stderr",
     "output_type": "stream",
     "text": [
      "/Users/yeechoongchan/miniconda3/envs/NST/lib/python3.8/site-packages/sklearn/feature_extraction/text.py:17: DeprecationWarning: Using or importing the ABCs from 'collections' instead of from 'collections.abc' is deprecated since Python 3.3, and in 3.9 it will stop working\n",
      "  from collections import Mapping, defaultdict\n"
     ]
    }
   ],
   "source": [
    "from data.loader import DataLoader\n",
    "loader = DataLoader()\n",
    "train_primitive_matrix, val_primitive_matrix, test_primitive_matrix, \\\n",
    "            train_ground, val_ground, test_ground, \\\n",
    "            train_plots, val_plots, test_plots = loader.load_data(None, \"./data/imdb/\")\n",
    "\n"
   ]
  },
  {
   "cell_type": "code",
   "execution_count": 3,
   "metadata": {},
   "outputs": [
    {
     "name": "stdout",
     "output_type": "stream",
     "text": [
      "[[0 0 0 0]\n",
      " [0 0 0 0]\n",
      " [0 0 0 0]\n",
      " ...\n",
      " [0 0 0 0]\n",
      " [0 0 0 0]\n",
      " [0 0 0 0]]\n"
     ]
    },
    {
     "data": {
      "text/plain": [
       "False"
      ]
     },
     "execution_count": 3,
     "metadata": {},
     "output_type": "execute_result"
    }
   ],
   "source": [
    "print(train_primitive_matrix[:,:4])\n",
    "np.array_equal(train_primitive_matrix[:,1], train_primitive_matrix[:,3])"
   ]
  },
  {
   "cell_type": "code",
   "execution_count": 4,
   "metadata": {
    "pycharm": {
     "name": "#%%\n"
    }
   },
   "outputs": [
    {
     "name": "stderr",
     "output_type": "stream",
     "text": [
      "64it [00:00, 638.09it/s]"
     ]
    },
    {
     "name": "stdout",
     "output_type": "stream",
     "text": [
      "322 choose 2\n"
     ]
    },
    {
     "name": "stderr",
     "output_type": "stream",
     "text": [
      "322it [00:00, 697.69it/s]\n"
     ]
    }
   ],
   "source": [
    "# Step 1. synthesizer\n",
    "model = sklearn.linear_model.LogisticRegression\n",
    "synthesizer = Synthesizer(model, train_primitive_matrix, train_ground, 1)\n",
    "H, X_comb = synthesizer.solve()"
   ]
  },
  {
   "cell_type": "code",
   "execution_count": 5,
   "metadata": {},
   "outputs": [
    {
     "name": "stdout",
     "output_type": "stream",
     "text": [
      "0\n",
      "\n",
      "1\n",
      "322\n",
      "322\n"
     ]
    }
   ],
   "source": [
    "print(np.sum(X_comb[0]))\n",
    "print()\n",
    "print(np.sum(X_comb[1]))\n",
    "np.array_equal(X_comb[3], X_comb[1])\n",
    "\n",
    "print(len(X_comb))\n",
    "print(len(H))"
   ]
  },
  {
   "cell_type": "code",
   "execution_count": 6,
   "metadata": {},
   "outputs": [
    {
     "data": {
      "text/plain": [
       "[(0,), (1,), (2,), (3,), (4,), (5,), (6,), (7,), (8,), (9,)]"
      ]
     },
     "execution_count": 6,
     "metadata": {},
     "output_type": "execute_result"
    }
   ],
   "source": [
    "X_comb[:10]"
   ]
  },
  {
   "cell_type": "code",
   "execution_count": 7,
   "metadata": {},
   "outputs": [
    {
     "name": "stdout",
     "output_type": "stream",
     "text": [
      "[0.5431338028169014, 0.5431338028169014, 0.5431338028169014, 0.5431338028169014, 0.5431338028169014, 0.5431338028169014, 0.5431338028169014, 0.5431338028169014, 0.5431338028169014, 0.5431338028169014, 0.5431338028169014, 0.5431338028169014, 0.5484154929577465, 0.5448943661971831, 0.5431338028169014, 0.5431338028169014, 0.5431338028169014, 0.5431338028169014, 0.5545774647887324, 0.5448943661971831, 0.5431338028169014, 0.5431338028169014, 0.5748239436619719, 0.5545774647887324, 0.5730633802816901, 0.5448943661971831, 0.5484154929577465, 0.5431338028169014, 0.5475352112676056, 0.5431338028169014, 0.5492957746478874, 0.5440140845070423, 0.5440140845070423, 0.5431338028169014, 0.5448943661971831, 0.5466549295774648, 0.5589788732394366, 0.5431338028169014, 0.5431338028169014, 0.5431338028169014, 0.5440140845070423, 0.5431338028169014, 0.5431338028169014, 0.5431338028169014, 0.5431338028169014, 0.5431338028169014, 0.5431338028169014, 0.5431338028169014, 0.5431338028169014, 0.5431338028169014, 0.5519366197183099, 0.5431338028169014, 0.5492957746478874, 0.5431338028169014, 0.5431338028169014, 0.5431338028169014, 0.5431338028169014, 0.5492957746478874, 0.5431338028169014, 0.5431338028169014, 0.5431338028169014, 0.5431338028169014, 0.5431338028169014, 0.5431338028169014, 0.551056338028169, 0.5431338028169014, 0.5431338028169014, 0.5431338028169014, 0.5431338028169014, 0.5431338028169014, 0.5431338028169014, 0.5431338028169014, 0.5431338028169014, 0.5431338028169014, 0.5431338028169014, 0.5431338028169014, 0.5431338028169014, 0.5431338028169014, 0.5431338028169014, 0.5475352112676056, 0.5431338028169014, 0.5431338028169014, 0.5431338028169014, 0.5431338028169014, 0.5431338028169014, 0.5431338028169014, 0.5677816901408451, 0.5431338028169014, 0.545774647887324, 0.5466549295774648, 0.5431338028169014, 0.5431338028169014, 0.5431338028169014, 0.5431338028169014, 0.5431338028169014, 0.5431338028169014, 0.5554577464788732, 0.5431338028169014, 0.5431338028169014, 0.5440140845070423, 0.5431338028169014, 0.5431338028169014, 0.5519366197183099, 0.5431338028169014, 0.5431338028169014, 0.5440140845070423, 0.5431338028169014, 0.5501760563380281, 0.545774647887324, 0.5431338028169014, 0.5783450704225352, 0.5431338028169014, 0.5431338028169014, 0.5431338028169014, 0.5431338028169014, 0.5440140845070423, 0.5519366197183099, 0.5431338028169014, 0.5431338028169014, 0.5431338028169014, 0.5431338028169014, 0.5431338028169014, 0.5431338028169014, 0.5431338028169014, 0.5431338028169014, 0.5431338028169014, 0.5431338028169014, 0.5431338028169014, 0.5431338028169014, 0.5431338028169014, 0.5431338028169014, 0.5431338028169014, 0.5431338028169014, 0.5642605633802817, 0.5448943661971831, 0.5536971830985915, 0.5448943661971831, 0.5431338028169014, 0.5484154929577465, 0.5431338028169014, 0.5448943661971831, 0.5545774647887324, 0.5431338028169014, 0.5431338028169014, 0.5431338028169014, 0.5431338028169014, 0.5431338028169014, 0.5431338028169014, 0.5492957746478874, 0.5484154929577465, 0.5536971830985915, 0.5431338028169014, 0.5431338028169014, 0.5431338028169014, 0.5440140845070423, 0.5431338028169014, 0.5431338028169014, 0.5431338028169014, 0.5572183098591549, 0.5431338028169014, 0.5431338028169014, 0.5431338028169014, 0.5448943661971831, 0.5440140845070423, 0.5431338028169014, 0.5431338028169014, 0.5431338028169014, 0.5528169014084507, 0.5554577464788732, 0.5431338028169014, 0.5554577464788732, 0.5492957746478874, 0.5431338028169014, 0.5431338028169014, 0.5545774647887324, 0.5554577464788732, 0.5519366197183099, 0.5431338028169014, 0.5528169014084507, 0.5431338028169014, 0.5431338028169014, 0.5475352112676056, 0.5431338028169014, 0.5536971830985915, 0.5545774647887324, 0.5431338028169014, 0.5431338028169014, 0.5492957746478874, 0.5431338028169014, 0.5501760563380281, 0.545774647887324, 0.5431338028169014, 0.5431338028169014, 0.5431338028169014, 0.5598591549295775, 0.5431338028169014, 0.5431338028169014, 0.5616197183098591, 0.5431338028169014, 0.5431338028169014, 0.5484154929577465, 0.5598591549295775, 0.5431338028169014, 0.5431338028169014, 0.5431338028169014, 0.5431338028169014, 0.5431338028169014, 0.5431338028169014, 0.5431338028169014, 0.5431338028169014, 0.5431338028169014, 0.5431338028169014, 0.5431338028169014, 0.5431338028169014, 0.5431338028169014, 0.5431338028169014, 0.5431338028169014, 0.5669014084507042, 0.5431338028169014, 0.5431338028169014, 0.5536971830985915, 0.5545774647887324, 0.5431338028169014, 0.5492957746478874, 0.5431338028169014, 0.5431338028169014, 0.5545774647887324, 0.5431338028169014, 0.5431338028169014, 0.5431338028169014, 0.5431338028169014, 0.545774647887324, 0.5545774647887324, 0.5492957746478874, 0.5466549295774648, 0.5431338028169014, 0.5431338028169014, 0.5528169014084507, 0.5431338028169014, 0.5431338028169014, 0.5431338028169014, 0.5431338028169014, 0.5686619718309859, 0.5484154929577465, 0.5431338028169014, 0.5528169014084507, 0.5431338028169014, 0.5589788732394366, 0.5431338028169014, 0.5431338028169014, 0.5431338028169014, 0.5431338028169014, 0.5519366197183099, 0.5484154929577465, 0.5431338028169014, 0.5563380281690141, 0.5607394366197183, 0.5607394366197183, 0.5431338028169014, 0.5431338028169014, 0.551056338028169, 0.5431338028169014, 0.5431338028169014, 0.5431338028169014, 0.5431338028169014, 0.545774647887324, 0.5440140845070423, 0.5431338028169014, 0.545774647887324, 0.5431338028169014, 0.5440140845070423, 0.5633802816901409, 0.5431338028169014, 0.5431338028169014, 0.5431338028169014, 0.5431338028169014, 0.5431338028169014, 0.5431338028169014, 0.5431338028169014, 0.5536971830985915, 0.5607394366197183, 0.5431338028169014, 0.5431338028169014, 0.5440140845070423, 0.5475352112676056, 0.5440140845070423, 0.5431338028169014, 0.5431338028169014, 0.5431338028169014, 0.545774647887324, 0.5431338028169014, 0.5431338028169014, 0.5431338028169014, 0.5431338028169014, 0.5431338028169014, 0.545774647887324, 0.5528169014084507, 0.5431338028169014, 0.5431338028169014, 0.5466549295774648, 0.5431338028169014, 0.5431338028169014, 0.5501760563380281, 0.5448943661971831, 0.545774647887324, 0.5431338028169014, 0.5431338028169014, 0.5431338028169014, 0.5431338028169014, 0.5484154929577465, 0.5431338028169014, 0.5431338028169014, 0.5536971830985915, 0.5448943661971831, 0.5431338028169014, 0.5519366197183099, 0.5431338028169014, 0.5484154929577465, 0.5501760563380281, 0.5431338028169014, 0.5431338028169014, 0.5431338028169014]\n",
      "max 0.5783450704225352\n"
     ]
    }
   ],
   "source": [
    "# verify training accuracy\n",
    "F1s = []\n",
    "i= 0\n",
    "for h_comb, x_comb in zip(H, X_comb):\n",
    "    i += 1\n",
    "    h, beta = h_comb\n",
    "    try:\n",
    "        y_L = h.predict(train_primitive_matrix[:, np.array(x_comb)])\n",
    "    except ValueError as e:\n",
    "        print(i)\n",
    "        print(h.coef_)\n",
    "        print(x_comb.shape)\n",
    "        print(h)\n",
    "        print(e)\n",
    "        break\n",
    "        \n",
    "    f_score = calcF1(train_ground, y_L, beta)\n",
    "    F1s.append(f_score)\n",
    "print(F1s)\n",
    "print('max', max(F1s))"
   ]
  },
  {
   "cell_type": "code",
   "execution_count": 8,
   "metadata": {},
   "outputs": [],
   "source": [
    "## Pruning"
   ]
  },
  {
   "cell_type": "code",
   "execution_count": 9,
   "metadata": {},
   "outputs": [],
   "source": [
    "from program_synthesis.pruner import Pruner"
   ]
  },
  {
   "cell_type": "code",
   "execution_count": 10,
   "metadata": {},
   "outputs": [],
   "source": [
    "H_C = []\n",
    "n = np.zeros(len(val_primitive_matrix))\n",
    "w = 0.5"
   ]
  },
  {
   "cell_type": "code",
   "execution_count": 11,
   "metadata": {},
   "outputs": [
    {
     "data": {
      "text/plain": [
       "(1136, 322)"
      ]
     },
     "execution_count": 11,
     "metadata": {},
     "output_type": "execute_result"
    }
   ],
   "source": [
    "train_primitive_matrix.shape"
   ]
  },
  {
   "cell_type": "code",
   "execution_count": 12,
   "metadata": {},
   "outputs": [
    {
     "data": {
      "text/plain": [
       "(284, 322)"
      ]
     },
     "execution_count": 12,
     "metadata": {},
     "output_type": "execute_result"
    }
   ],
   "source": [
    "val_primitive_matrix.shape"
   ]
  },
  {
   "cell_type": "code",
   "execution_count": 13,
   "metadata": {},
   "outputs": [],
   "source": [
    "pruner = Pruner(H, H_C, train_ground, train_primitive_matrix, val_primitive_matrix, n, w, X_comb)"
   ]
  },
  {
   "cell_type": "code",
   "execution_count": 14,
   "metadata": {},
   "outputs": [
    {
     "name": "stdout",
     "output_type": "stream",
     "text": [
      "[[0.54035956 0.45964044]\n",
      " [0.54035956 0.45964044]\n",
      " [0.54035956 0.45964044]\n",
      " ...\n",
      " [0.54035956 0.45964044]\n",
      " [0.54035956 0.45964044]\n",
      " [0.54035956 0.45964044]]\n"
     ]
    },
    {
     "ename": "NameError",
     "evalue": "name 'a' is not defined",
     "output_type": "error",
     "traceback": [
      "\u001b[0;31m---------------------------------------------------------------------------\u001b[0m",
      "\u001b[0;31mNameError\u001b[0m                                 Traceback (most recent call last)",
      "\u001b[0;32m<ipython-input-14-88f77e971e69>\u001b[0m in \u001b[0;36m<module>\u001b[0;34m\u001b[0m\n\u001b[0;32m----> 1\u001b[0;31m \u001b[0mh_best\u001b[0m \u001b[0;34m=\u001b[0m \u001b[0mpruner\u001b[0m\u001b[0;34m.\u001b[0m\u001b[0mprune\u001b[0m\u001b[0;34m(\u001b[0m\u001b[0;34m)\u001b[0m\u001b[0;34m\u001b[0m\u001b[0;34m\u001b[0m\u001b[0m\n\u001b[0m",
      "\u001b[0;32m~/Documents/SNUBA/program_synthesis/pruner.py\u001b[0m in \u001b[0;36mprune\u001b[0;34m(self)\u001b[0m\n\u001b[1;32m     20\u001b[0m             \u001b[0my_L\u001b[0m \u001b[0;34m=\u001b[0m \u001b[0mh\u001b[0m\u001b[0;34m.\u001b[0m\u001b[0mpredict_proba\u001b[0m\u001b[0;34m(\u001b[0m\u001b[0mself\u001b[0m\u001b[0;34m.\u001b[0m\u001b[0mprimitive_XL\u001b[0m\u001b[0;34m[\u001b[0m\u001b[0;34m:\u001b[0m\u001b[0;34m,\u001b[0m \u001b[0mnp\u001b[0m\u001b[0;34m.\u001b[0m\u001b[0marray\u001b[0m\u001b[0;34m(\u001b[0m\u001b[0mX_comb\u001b[0m\u001b[0;34m)\u001b[0m\u001b[0;34m]\u001b[0m\u001b[0;34m)\u001b[0m\u001b[0;34m\u001b[0m\u001b[0;34m\u001b[0m\u001b[0m\n\u001b[1;32m     21\u001b[0m             \u001b[0mprint\u001b[0m\u001b[0;34m(\u001b[0m\u001b[0my_L\u001b[0m\u001b[0;34m)\u001b[0m\u001b[0;34m\u001b[0m\u001b[0;34m\u001b[0m\u001b[0m\n\u001b[0;32m---> 22\u001b[0;31m             \u001b[0ma\u001b[0m\u001b[0;34m\u001b[0m\u001b[0;34m\u001b[0m\u001b[0m\n\u001b[0m\u001b[1;32m     23\u001b[0m             \u001b[0mf_score\u001b[0m \u001b[0;34m=\u001b[0m \u001b[0mcalcF1\u001b[0m\u001b[0;34m(\u001b[0m\u001b[0mself\u001b[0m\u001b[0;34m.\u001b[0m\u001b[0my_star\u001b[0m\u001b[0;34m,\u001b[0m \u001b[0my_L\u001b[0m\u001b[0;34m,\u001b[0m \u001b[0mbeta\u001b[0m\u001b[0;34m)\u001b[0m\u001b[0;34m\u001b[0m\u001b[0;34m\u001b[0m\u001b[0m\n\u001b[1;32m     24\u001b[0m \u001b[0;34m\u001b[0m\u001b[0m\n",
      "\u001b[0;31mNameError\u001b[0m: name 'a' is not defined"
     ]
    }
   ],
   "source": [
    "h_best = pruner.prune()"
   ]
  },
  {
   "cell_type": "code",
   "execution_count": null,
   "metadata": {},
   "outputs": [],
   "source": [
    "h_best"
   ]
  },
  {
   "cell_type": "code",
   "execution_count": null,
   "metadata": {},
   "outputs": [],
   "source": [
    "\n",
    "calcJaccard()"
   ]
  },
  {
   "cell_type": "code",
   "execution_count": null,
   "metadata": {},
   "outputs": [],
   "source": []
  },
  {
   "cell_type": "code",
   "execution_count": null,
   "metadata": {},
   "outputs": [],
   "source": []
  },
  {
   "cell_type": "code",
   "execution_count": null,
   "metadata": {},
   "outputs": [],
   "source": []
  },
  {
   "cell_type": "code",
   "execution_count": null,
   "metadata": {},
   "outputs": [],
   "source": []
  },
  {
   "cell_type": "code",
   "execution_count": null,
   "metadata": {},
   "outputs": [],
   "source": []
  },
  {
   "cell_type": "code",
   "execution_count": null,
   "metadata": {},
   "outputs": [],
   "source": []
  },
  {
   "cell_type": "code",
   "execution_count": null,
   "metadata": {},
   "outputs": [],
   "source": []
  },
  {
   "cell_type": "code",
   "execution_count": null,
   "metadata": {},
   "outputs": [],
   "source": []
  },
  {
   "cell_type": "code",
   "execution_count": null,
   "metadata": {},
   "outputs": [],
   "source": []
  },
  {
   "cell_type": "code",
   "execution_count": null,
   "metadata": {},
   "outputs": [],
   "source": []
  },
  {
   "cell_type": "code",
   "execution_count": null,
   "metadata": {},
   "outputs": [],
   "source": []
  },
  {
   "cell_type": "code",
   "execution_count": null,
   "metadata": {},
   "outputs": [],
   "source": []
  },
  {
   "cell_type": "code",
   "execution_count": null,
   "metadata": {},
   "outputs": [],
   "source": []
  },
  {
   "cell_type": "code",
   "execution_count": null,
   "metadata": {},
   "outputs": [],
   "source": []
  },
  {
   "cell_type": "code",
   "execution_count": null,
   "metadata": {},
   "outputs": [],
   "source": []
  },
  {
   "cell_type": "code",
   "execution_count": null,
   "metadata": {},
   "outputs": [],
   "source": []
  },
  {
   "cell_type": "code",
   "execution_count": null,
   "metadata": {},
   "outputs": [],
   "source": []
  },
  {
   "cell_type": "code",
   "execution_count": null,
   "metadata": {},
   "outputs": [],
   "source": []
  },
  {
   "cell_type": "code",
   "execution_count": null,
   "metadata": {},
   "outputs": [],
   "source": []
  },
  {
   "cell_type": "code",
   "execution_count": null,
   "metadata": {},
   "outputs": [],
   "source": []
  },
  {
   "cell_type": "code",
   "execution_count": null,
   "metadata": {},
   "outputs": [],
   "source": []
  }
 ],
 "metadata": {
  "kernelspec": {
   "display_name": "Python 3",
   "language": "python",
   "name": "python3"
  },
  "language_info": {
   "codemirror_mode": {
    "name": "ipython",
    "version": 3
   },
   "file_extension": ".py",
   "mimetype": "text/x-python",
   "name": "python",
   "nbconvert_exporter": "python",
   "pygments_lexer": "ipython3",
   "version": "3.8.5"
  }
 },
 "nbformat": 4,
 "nbformat_minor": 1
}
